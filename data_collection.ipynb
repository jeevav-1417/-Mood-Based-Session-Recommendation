{
 "cells": [
  {
   "cell_type": "code",
   "execution_count": null,
   "id": "4a1b2989",
   "metadata": {},
   "outputs": [],
   "source": []
  },
  {
   "cell_type": "code",
   "execution_count": 4,
   "id": "4a657c5e",
   "metadata": {},
   "outputs": [
    {
     "name": "stdout",
     "output_type": "stream",
     "text": [
      "Enter the name of the data : Frustration\n",
      "(100, 1020)\n"
     ]
    }
   ],
   "source": [
    "import mediapipe as mp \n",
    "import numpy as np \n",
    "import cv2 \n",
    " \n",
    "cap = cv2.VideoCapture(0)\n",
    "\n",
    "name = input(\"Enter the name of the data : \")\n",
    "\n",
    "holistic = mp.solutions.holistic\n",
    "hands = mp.solutions.hands\n",
    "holis = holistic.Holistic()\n",
    "drawing = mp.solutions.drawing_utils\n",
    "\n",
    "X = []\n",
    "data_size = 0\n",
    "\n",
    "while True:\n",
    "\tlst = []\n",
    "\n",
    "\t_, frm = cap.read()\n",
    "\n",
    "\tfrm = cv2.flip(frm, 1)\n",
    "\n",
    "\tres = holis.process(cv2.cvtColor(frm, cv2.COLOR_BGR2RGB))\n",
    "\n",
    "\n",
    "\tif res.face_landmarks:\n",
    "\t\tfor i in res.face_landmarks.landmark:\n",
    "\t\t\tlst.append(i.x - res.face_landmarks.landmark[1].x)\n",
    "\t\t\tlst.append(i.y - res.face_landmarks.landmark[1].y)\n",
    "\n",
    "\t\tif res.left_hand_landmarks:\n",
    "\t\t\tfor i in res.left_hand_landmarks.landmark:\n",
    "\t\t\t\tlst.append(i.x - res.left_hand_landmarks.landmark[8].x)\n",
    "\t\t\t\tlst.append(i.y - res.left_hand_landmarks.landmark[8].y)\n",
    "\t\telse:\n",
    "\t\t\tfor i in range(42):\n",
    "\t\t\t\tlst.append(0.0)\n",
    "\n",
    "\t\tif res.right_hand_landmarks:\n",
    "\t\t\tfor i in res.right_hand_landmarks.landmark:\n",
    "\t\t\t\tlst.append(i.x - res.right_hand_landmarks.landmark[8].x)\n",
    "\t\t\t\tlst.append(i.y - res.right_hand_landmarks.landmark[8].y)\n",
    "\t\telse:\n",
    "\t\t\tfor i in range(42):\n",
    "\t\t\t\tlst.append(0.0)\n",
    "\n",
    "\n",
    "\t\tX.append(lst)\n",
    "\t\tdata_size = data_size+1\n",
    "\n",
    "\n",
    "\n",
    "\tdrawing.draw_landmarks(frm, res.face_landmarks, holistic.FACEMESH_CONTOURS)\n",
    "\tdrawing.draw_landmarks(frm, res.left_hand_landmarks, hands.HAND_CONNECTIONS)\n",
    "\tdrawing.draw_landmarks(frm, res.right_hand_landmarks, hands.HAND_CONNECTIONS)\n",
    "\n",
    "\tcv2.putText(frm, str(data_size), (50,50), cv2.FONT_HERSHEY_SIMPLEX, 1, (0,255,0),2)\n",
    "\n",
    "\tcv2.imshow(\"window\", frm)\n",
    "\n",
    "\tif cv2.waitKey(1) == 27 or data_size>99:\n",
    "\t\tcv2.destroyAllWindows()\n",
    "\t\tcap.release()\n",
    "\t\tbreak\n",
    "\n",
    "\n",
    "np.save(f\"{name}.npy\", np.array(X))\n",
    "print(np.array(X).shape)"
   ]
  },
  {
   "cell_type": "code",
   "execution_count": null,
   "id": "77a668eb",
   "metadata": {},
   "outputs": [],
   "source": []
  }
 ],
 "metadata": {
  "kernelspec": {
   "display_name": "Python 3 (ipykernel)",
   "language": "python",
   "name": "python3"
  },
  "language_info": {
   "codemirror_mode": {
    "name": "ipython",
    "version": 3
   },
   "file_extension": ".py",
   "mimetype": "text/x-python",
   "name": "python",
   "nbconvert_exporter": "python",
   "pygments_lexer": "ipython3",
   "version": "3.11.7"
  }
 },
 "nbformat": 4,
 "nbformat_minor": 5
}
